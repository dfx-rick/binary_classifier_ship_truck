{
  "nbformat": 4,
  "nbformat_minor": 0,
  "metadata": {
    "colab": {
      "name": "tinkerhub_submission.ipynb",
      "provenance": [],
      "collapsed_sections": [],
      "authorship_tag": "ABX9TyMLL91SkG1/Ug8WLnI8gc0x",
      "include_colab_link": true
    },
    "kernelspec": {
      "name": "python3",
      "display_name": "Python 3"
    },
    "language_info": {
      "name": "python"
    }
  },
  "cells": [
    {
      "cell_type": "markdown",
      "metadata": {
        "id": "view-in-github",
        "colab_type": "text"
      },
      "source": [
        "<a href=\"https://colab.research.google.com/github/dfx-rick/binary_classifier_ship_truck/blob/main/ship_or_truck.ipynb\" target=\"_parent\"><img src=\"https://colab.research.google.com/assets/colab-badge.svg\" alt=\"Open In Colab\"/></a>"
      ]
    },
    {
      "cell_type": "code",
      "metadata": {
        "id": "mkZf6RBSmnTJ"
      },
      "source": [
        "#Importing the required libraries\n",
        "import tensorflow as tf\n",
        "import numpy as np\n",
        "import matplotlib.pyplot as plt\n",
        "from tensorflow.keras import datasets, layers, models\n",
        "import pickle\n"
      ],
      "execution_count": 1,
      "outputs": []
    },
    {
      "cell_type": "code",
      "metadata": {
        "id": "7hXNncqypSJs",
        "colab": {
          "base_uri": "https://localhost:8080/"
        },
        "outputId": "fde4195d-6888-48b4-cf9b-0e2ff7a29f95"
      },
      "source": [
        "  #Importing the CIFAR10 dataset from tensorflow library\n",
        "  ds= tf.keras.datasets.cifar10\n",
        "  (x_train_m,y_train),(x_test_m, y_test)=ds.load_data()"
      ],
      "execution_count": 2,
      "outputs": [
        {
          "output_type": "stream",
          "text": [
            "Downloading data from https://www.cs.toronto.edu/~kriz/cifar-10-python.tar.gz\n",
            "170500096/170498071 [==============================] - 4s 0us/step\n"
          ],
          "name": "stdout"
        }
      ]
    },
    {
      "cell_type": "code",
      "metadata": {
        "colab": {
          "base_uri": "https://localhost:8080/"
        },
        "id": "ZnrQQI0MqLyR",
        "outputId": "6ba6118a-5a0a-4d7c-b53a-fcb5edd63388"
      },
      "source": [
        "#print statements to verify the shape of the data provided\n",
        "print(x_train_m.shape)\n",
        "print(y_train.shape)\n",
        "y_train.dtype"
      ],
      "execution_count": null,
      "outputs": [
        {
          "output_type": "stream",
          "text": [
            "(50000, 32, 32, 3)\n",
            "(50000, 1)\n"
          ],
          "name": "stdout"
        },
        {
          "output_type": "execute_result",
          "data": {
            "text/plain": [
              "dtype('uint8')"
            ]
          },
          "metadata": {
            "tags": []
          },
          "execution_count": 50
        }
      ]
    },
    {
      "cell_type": "code",
      "metadata": {
        "colab": {
          "base_uri": "https://localhost:8080/"
        },
        "id": "BfJSM2rf1IKG",
        "outputId": "f01d5a49-786c-4e07-bbb5-ba684144e0af"
      },
      "source": [
        "#Normalizing the training set and reshaping the labels to single dimension\n",
        "x_train_m=x_train_m/255\n",
        "x_test= x_test_m/255\n",
        "y_train= y_train.reshape(-1,)\n",
        "y_train[:5]"
      ],
      "execution_count": 3,
      "outputs": [
        {
          "output_type": "execute_result",
          "data": {
            "text/plain": [
              "array([6, 9, 9, 4, 1], dtype=uint8)"
            ]
          },
          "metadata": {
            "tags": []
          },
          "execution_count": 3
        }
      ]
    },
    {
      "cell_type": "code",
      "metadata": {
        "id": "qMwil7XIU-u6",
        "colab": {
          "base_uri": "https://localhost:8080/"
        },
        "outputId": "5de3aa73-12cf-49b1-b478-d176fdf3bbac"
      },
      "source": [
        "images=np.zeros((10000,32,32,3))#Initializing as numpy arrays\n",
        "ptr=0\n",
        "label=np.zeros(10000, dtype='uint8')#Initializing as numpy arrays with similar datatype as y_train\n",
        "#for loop to go through the images in training data and seperate the images of ship and truck from the rest \n",
        "for i in range(len(x_train_m)):\n",
        "  if(y_train[i]>7):\n",
        "    images[ptr]=x_train_m[i]\n",
        "    label[ptr]=y_train[i]-8\n",
        "    ptr=ptr+1\n",
        "\n",
        "label=label.reshape(-1,)#reshaping the labels to single dimension\n",
        "images.shape"
      ],
      "execution_count": 4,
      "outputs": [
        {
          "output_type": "execute_result",
          "data": {
            "text/plain": [
              "(10000, 32, 32, 3)"
            ]
          },
          "metadata": {
            "tags": []
          },
          "execution_count": 4
        }
      ]
    },
    {
      "cell_type": "code",
      "metadata": {
        "colab": {
          "base_uri": "https://localhost:8080/",
          "height": 334
        },
        "id": "QDKO4C2pTkGd",
        "outputId": "d78b3f0e-a06f-40f7-bc50-72a25940dcc4"
      },
      "source": [
        "plt.imshow(images[5])\n",
        "print(label[5])\n",
        "print(label.shape)\n",
        "print(ptr)\n",
        "label[:5]"
      ],
      "execution_count": null,
      "outputs": [
        {
          "output_type": "stream",
          "text": [
            "1\n",
            "(10000,)\n",
            "10000\n"
          ],
          "name": "stdout"
        },
        {
          "output_type": "execute_result",
          "data": {
            "text/plain": [
              "array([1, 1, 0, 1, 1], dtype=uint8)"
            ]
          },
          "metadata": {
            "tags": []
          },
          "execution_count": 53
        },
        {
          "output_type": "display_data",
          "data": {
            "image/png": "[encoded data removed]",
            "text/plain": [
              "<Figure size 432x288 with 1 Axes>"
            ]
          },
          "metadata": {
            "tags": [],
            "needs_background": "light"
          }
        }
      ]
    },
    {
      "cell_type": "code",
      "metadata": {
        "id": "uGG1PAJF2VLh"
      },
      "source": [
        "#Building a Convolutional Neural Network\n",
        "model = models.Sequential([\n",
        "          layers.Conv2D(filters=32, kernel_size=(3,3), activation='relu', input_shape=(32,32,3)),\n",
        "          layers.MaxPooling2D((2,2)),\n",
        "          layers.Conv2D(filters=64, kernel_size=(3,3), activation='relu'),\n",
        "          layers.MaxPooling2D((2,2)),\n",
        "          layers.Conv2D(128, (3,3), activation='relu'),\n",
        "          layers.MaxPooling2D((2,2)),\n",
        "          layers.Dropout(0.3),\n",
        "          layers.Flatten(),\n",
        "          layers.Dense(120, activation='relu'),\n",
        "          layers.Dense(84, activation='relu'),\n",
        "          layers.Dense(42, activation='relu'),\n",
        "          layers.Dense(1, activation='sigmoid')                           \n",
        "])\n"
      ],
      "execution_count": 5,
      "outputs": []
    },
    {
      "cell_type": "code",
      "metadata": {
        "id": "UYYTYxdN4fpD"
      },
      "source": [
        "model.compile(optimizer='adam', loss='binary_crossentropy', metrics=['accuracy'])"
      ],
      "execution_count": 6,
      "outputs": []
    },
    {
      "cell_type": "code",
      "metadata": {
        "colab": {
          "base_uri": "https://localhost:8080/"
        },
        "id": "pPQ87-SP64RX",
        "outputId": "066827ae-5172-4c1b-b70c-1b0f72054791"
      },
      "source": [
        "model.fit(images, label, epochs=10,batch_size=512, validation_split=0.1)#fitting the model to the given training data with a 10% split in data for validation"
      ],
      "execution_count": 7,
      "outputs": [
        {
          "output_type": "stream",
          "text": [
            "Epoch 1/10\n",
            "18/18 [==============================] - 12s 614ms/step - loss: 0.6273 - accuracy: 0.6533 - val_loss: 0.6071 - val_accuracy: 0.6470\n",
            "Epoch 2/10\n",
            "18/18 [==============================] - 11s 605ms/step - loss: 0.5244 - accuracy: 0.7453 - val_loss: 0.4442 - val_accuracy: 0.7960\n",
            "Epoch 3/10\n",
            "18/18 [==============================] - 11s 604ms/step - loss: 0.4388 - accuracy: 0.7981 - val_loss: 0.3896 - val_accuracy: 0.8220\n",
            "Epoch 4/10\n",
            "18/18 [==============================] - 11s 605ms/step - loss: 0.3877 - accuracy: 0.8297 - val_loss: 0.3891 - val_accuracy: 0.8200\n",
            "Epoch 5/10\n",
            "18/18 [==============================] - 11s 603ms/step - loss: 0.3530 - accuracy: 0.8488 - val_loss: 0.2944 - val_accuracy: 0.8710\n",
            "Epoch 6/10\n",
            "18/18 [==============================] - 11s 604ms/step - loss: 0.3094 - accuracy: 0.8716 - val_loss: 0.2593 - val_accuracy: 0.8910\n",
            "Epoch 7/10\n",
            "18/18 [==============================] - 11s 604ms/step - loss: 0.2812 - accuracy: 0.8850 - val_loss: 0.2308 - val_accuracy: 0.9030\n",
            "Epoch 8/10\n",
            "18/18 [==============================] - 11s 605ms/step - loss: 0.2547 - accuracy: 0.8971 - val_loss: 0.2096 - val_accuracy: 0.9160\n",
            "Epoch 9/10\n",
            "18/18 [==============================] - 11s 605ms/step - loss: 0.2363 - accuracy: 0.9048 - val_loss: 0.1950 - val_accuracy: 0.9190\n",
            "Epoch 10/10\n",
            "18/18 [==============================] - 11s 604ms/step - loss: 0.2120 - accuracy: 0.9148 - val_loss: 0.1884 - val_accuracy: 0.9240\n"
          ],
          "name": "stdout"
        },
        {
          "output_type": "execute_result",
          "data": {
            "text/plain": [
              "<tensorflow.python.keras.callbacks.History at 0x7f9c70394b10>"
            ]
          },
          "metadata": {
            "tags": []
          },
          "execution_count": 7
        }
      ]
    },
    {
      "cell_type": "code",
      "metadata": {
        "id": "n0-3453Nznc4"
      },
      "source": [
        "model.save('my_model.h5')"
      ],
      "execution_count": 8,
      "outputs": []
    },
    {
      "cell_type": "code",
      "metadata": {
        "id": "6DohrFI0fO-l"
      },
      "source": [
        "image=np.zeros((10000,32,32,3))\n",
        "ptr1=0\n",
        "labels=np.zeros(10000, dtype='uint8')\n",
        "for j in range(len(x_train_m)):\n",
        "  if(y_train[j]>7):\n",
        "    image[ptr1]=x_train_m[j]\n",
        "    labels[ptr1]=y_train[j]-8\n",
        "    ptr1=ptr1+1"
      ],
      "execution_count": 9,
      "outputs": []
    },
    {
      "cell_type": "code",
      "metadata": {
        "id": "HZIH315se-BL"
      },
      "source": [
        "pred = model.predict(image)"
      ],
      "execution_count": 10,
      "outputs": []
    },
    {
      "cell_type": "code",
      "metadata": {
        "id": "WZBL7ocP7HPB"
      },
      "source": [
        "result = []\n",
        "\n",
        "for i in range(pred.shape[0]):\n",
        "  max1=0.0\n",
        "  pos=0\n",
        "  for j in range(pred.shape[1]):\n",
        "    if pred[i][j] > max1:\n",
        "      max1 = pred[i][j]\n",
        "      pos = j\n",
        "  result.append(pos)"
      ],
      "execution_count": 11,
      "outputs": []
    },
    {
      "cell_type": "code",
      "metadata": {
        "colab": {
          "base_uri": "https://localhost:8080/"
        },
        "id": "XrJeqvigeWEw",
        "outputId": "03669062-bd5f-4a99-c31c-1ad5feb13857"
      },
      "source": [
        "scores = model.evaluate(image, labels, verbose=0)\n",
        "print(\"CNN Error: %.2f%%\" % (100-scores[1]*100))"
      ],
      "execution_count": 12,
      "outputs": [
        {
          "output_type": "stream",
          "text": [
            "CNN Error: 7.70%\n"
          ],
          "name": "stdout"
        }
      ]
    },
    {
      "cell_type": "code",
      "metadata": {
        "id": "eW7S9Y2ngfrv"
      },
      "source": [
        "labels = {'ship':0,'truck':1}\n",
        "with open('labels.json', 'wb') as iw:\n",
        "    pickle.dump(labels, iw)"
      ],
      "execution_count": null,
      "outputs": []
    },
    {
      "cell_type": "code",
      "metadata": {
        "id": "2p3bfplQEw66"
      },
      "source": [
        "pickle.dump()"
      ],
      "execution_count": null,
      "outputs": []
    }
  ]
}